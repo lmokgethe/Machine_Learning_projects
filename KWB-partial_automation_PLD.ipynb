{
 "cells": [
  {
   "cell_type": "markdown",
   "metadata": {},
   "source": [
    "# PARTIALLY AUTOMATING A BANK'S PERSONAL LOAN DEPARTMENT \n",
    "\n",
    "The goal of this project is to build a model that can determine the probability of a customer defaulting on a new personal loan.  This would allow the bank to instantly approve or deny a loan application.\n",
    "\n",
    "Historical data from the Personal Loan Department at Key West Bank is used to generate the model. In this data, the dependent variable (Outcome) is binary hence a logistic regression model is the first appropriate model to generate. The outcome varaible from the data is either 1 (defaulted) or 0 (did not default). \n",
    "\n",
    "A probabilty equal to or closer to 1 means a customer is likely to default. The model would produce an outcome of 1 and the bank may opt to not give out the loan. If the predicted probabilty is closer to 0, the model wil spite out a 0, meanig the customer is unlikely to default"
   ]
  },
  {
   "cell_type": "code",
   "execution_count": 2,
   "metadata": {},
   "outputs": [],
   "source": [
    "# Libraries \n",
    "import pandas as pd \n",
    "import numpy as np\n",
    "import matplotlib.pyplot as plt\n",
    "import seaborn as sns\n",
    "\n",
    "from sklearn.linear_model import LogisticRegression\n",
    "from sklearn.model_selection import train_test_split\n",
    "from sklearn import metrics\n",
    "\n",
    "import statsmodels.api as sm"
   ]
  },
  {
   "cell_type": "code",
   "execution_count": 3,
   "metadata": {},
   "outputs": [
    {
     "data": {
      "text/html": [
       "<div>\n",
       "<style scoped>\n",
       "    .dataframe tbody tr th:only-of-type {\n",
       "        vertical-align: middle;\n",
       "    }\n",
       "\n",
       "    .dataframe tbody tr th {\n",
       "        vertical-align: top;\n",
       "    }\n",
       "\n",
       "    .dataframe thead th {\n",
       "        text-align: right;\n",
       "    }\n",
       "</style>\n",
       "<table border=\"1\" class=\"dataframe\">\n",
       "  <thead>\n",
       "    <tr style=\"text-align: right;\">\n",
       "      <th></th>\n",
       "      <th>Salary</th>\n",
       "      <th>Late_on_1</th>\n",
       "      <th>Late_on_2</th>\n",
       "      <th>Location</th>\n",
       "      <th>Single</th>\n",
       "      <th>Existing_Loans</th>\n",
       "      <th>Age</th>\n",
       "      <th>Yrs_at_KWB</th>\n",
       "      <th>Outcome</th>\n",
       "    </tr>\n",
       "  </thead>\n",
       "  <tbody>\n",
       "    <tr>\n",
       "      <th>0</th>\n",
       "      <td>51</td>\n",
       "      <td>1</td>\n",
       "      <td>0</td>\n",
       "      <td>0</td>\n",
       "      <td>0</td>\n",
       "      <td>0</td>\n",
       "      <td>30</td>\n",
       "      <td>5</td>\n",
       "      <td>0</td>\n",
       "    </tr>\n",
       "    <tr>\n",
       "      <th>1</th>\n",
       "      <td>58</td>\n",
       "      <td>1</td>\n",
       "      <td>0</td>\n",
       "      <td>0</td>\n",
       "      <td>1</td>\n",
       "      <td>1</td>\n",
       "      <td>46</td>\n",
       "      <td>26</td>\n",
       "      <td>0</td>\n",
       "    </tr>\n",
       "    <tr>\n",
       "      <th>2</th>\n",
       "      <td>26</td>\n",
       "      <td>1</td>\n",
       "      <td>0</td>\n",
       "      <td>0</td>\n",
       "      <td>1</td>\n",
       "      <td>0</td>\n",
       "      <td>25</td>\n",
       "      <td>12</td>\n",
       "      <td>1</td>\n",
       "    </tr>\n",
       "    <tr>\n",
       "      <th>3</th>\n",
       "      <td>45</td>\n",
       "      <td>1</td>\n",
       "      <td>0</td>\n",
       "      <td>0</td>\n",
       "      <td>0</td>\n",
       "      <td>1</td>\n",
       "      <td>57</td>\n",
       "      <td>3</td>\n",
       "      <td>0</td>\n",
       "    </tr>\n",
       "    <tr>\n",
       "      <th>4</th>\n",
       "      <td>25</td>\n",
       "      <td>1</td>\n",
       "      <td>0</td>\n",
       "      <td>0</td>\n",
       "      <td>0</td>\n",
       "      <td>1</td>\n",
       "      <td>63</td>\n",
       "      <td>33</td>\n",
       "      <td>0</td>\n",
       "    </tr>\n",
       "    <tr>\n",
       "      <th>...</th>\n",
       "      <td>...</td>\n",
       "      <td>...</td>\n",
       "      <td>...</td>\n",
       "      <td>...</td>\n",
       "      <td>...</td>\n",
       "      <td>...</td>\n",
       "      <td>...</td>\n",
       "      <td>...</td>\n",
       "      <td>...</td>\n",
       "    </tr>\n",
       "    <tr>\n",
       "      <th>94</th>\n",
       "      <td>48</td>\n",
       "      <td>0</td>\n",
       "      <td>0</td>\n",
       "      <td>1</td>\n",
       "      <td>0</td>\n",
       "      <td>0</td>\n",
       "      <td>34</td>\n",
       "      <td>20</td>\n",
       "      <td>0</td>\n",
       "    </tr>\n",
       "    <tr>\n",
       "      <th>95</th>\n",
       "      <td>37</td>\n",
       "      <td>0</td>\n",
       "      <td>0</td>\n",
       "      <td>1</td>\n",
       "      <td>1</td>\n",
       "      <td>0</td>\n",
       "      <td>18</td>\n",
       "      <td>1</td>\n",
       "      <td>0</td>\n",
       "    </tr>\n",
       "    <tr>\n",
       "      <th>96</th>\n",
       "      <td>40</td>\n",
       "      <td>0</td>\n",
       "      <td>0</td>\n",
       "      <td>1</td>\n",
       "      <td>0</td>\n",
       "      <td>0</td>\n",
       "      <td>59</td>\n",
       "      <td>2</td>\n",
       "      <td>0</td>\n",
       "    </tr>\n",
       "    <tr>\n",
       "      <th>97</th>\n",
       "      <td>58</td>\n",
       "      <td>0</td>\n",
       "      <td>0</td>\n",
       "      <td>1</td>\n",
       "      <td>0</td>\n",
       "      <td>1</td>\n",
       "      <td>40</td>\n",
       "      <td>20</td>\n",
       "      <td>0</td>\n",
       "    </tr>\n",
       "    <tr>\n",
       "      <th>98</th>\n",
       "      <td>44</td>\n",
       "      <td>0</td>\n",
       "      <td>0</td>\n",
       "      <td>1</td>\n",
       "      <td>0</td>\n",
       "      <td>0</td>\n",
       "      <td>25</td>\n",
       "      <td>12</td>\n",
       "      <td>1</td>\n",
       "    </tr>\n",
       "  </tbody>\n",
       "</table>\n",
       "<p>99 rows × 9 columns</p>\n",
       "</div>"
      ],
      "text/plain": [
       "    Salary  Late_on_1  Late_on_2  Location  Single  Existing_Loans  Age  \\\n",
       "0       51          1          0         0       0               0   30   \n",
       "1       58          1          0         0       1               1   46   \n",
       "2       26          1          0         0       1               0   25   \n",
       "3       45          1          0         0       0               1   57   \n",
       "4       25          1          0         0       0               1   63   \n",
       "..     ...        ...        ...       ...     ...             ...  ...   \n",
       "94      48          0          0         1       0               0   34   \n",
       "95      37          0          0         1       1               0   18   \n",
       "96      40          0          0         1       0               0   59   \n",
       "97      58          0          0         1       0               1   40   \n",
       "98      44          0          0         1       0               0   25   \n",
       "\n",
       "    Yrs_at_KWB  Outcome  \n",
       "0            5        0  \n",
       "1           26        0  \n",
       "2           12        1  \n",
       "3            3        0  \n",
       "4           33        0  \n",
       "..         ...      ...  \n",
       "94          20        0  \n",
       "95           1        0  \n",
       "96           2        0  \n",
       "97          20        0  \n",
       "98          12        1  \n",
       "\n",
       "[99 rows x 9 columns]"
      ]
     },
     "execution_count": 3,
     "metadata": {},
     "output_type": "execute_result"
    }
   ],
   "source": [
    "# Loading data\n",
    "df=pd.read_csv('keywest.csv')\n",
    "df"
   ]
  },
  {
   "cell_type": "code",
   "execution_count": 4,
   "metadata": {},
   "outputs": [
    {
     "data": {
      "text/plain": [
       "(99, 9)"
      ]
     },
     "execution_count": 4,
     "metadata": {},
     "output_type": "execute_result"
    }
   ],
   "source": [
    "# Getting dimensions of dataframe to figure out the size of the dataframe\n",
    "df.shape "
   ]
  },
  {
   "cell_type": "markdown",
   "metadata": {},
   "source": [
    "There are 98 records and 9 variables "
   ]
  },
  {
   "cell_type": "code",
   "execution_count": 5,
   "metadata": {},
   "outputs": [
    {
     "data": {
      "text/plain": [
       "Outcome\n",
       "0    44\n",
       "1    55\n",
       "dtype: int64"
      ]
     },
     "execution_count": 5,
     "metadata": {},
     "output_type": "execute_result"
    }
   ],
   "source": [
    "# Using the  data to figure out the distribution of historic outcomes \n",
    "outcome_tally=df.groupby('Outcome').size()\n",
    "outcome_tally"
   ]
  },
  {
   "cell_type": "code",
   "execution_count": 6,
   "metadata": {},
   "outputs": [
    {
     "data": {
      "text/plain": [
       "<matplotlib.axes._subplots.AxesSubplot at 0x1a1f687c10>"
      ]
     },
     "execution_count": 6,
     "metadata": {},
     "output_type": "execute_result"
    },
    {
     "data": {
      "image/png": "[encoded data removed]",
      "text/plain": [
       "<Figure size 432x288 with 1 Axes>"
      ]
     },
     "metadata": {
      "needs_background": "light"
     },
     "output_type": "display_data"
    }
   ],
   "source": [
    "# Plotting outcome distributions\n",
    "outcome_tally.plot(x='Outcome', Y=0, kind='bar')\n",
    "outcome_tally.plot.bar()"
   ]
  },
  {
   "cell_type": "code",
   "execution_count": 7,
   "metadata": {},
   "outputs": [
    {
     "data": {
      "text/html": [
       "<div>\n",
       "<style scoped>\n",
       "    .dataframe tbody tr th:only-of-type {\n",
       "        vertical-align: middle;\n",
       "    }\n",
       "\n",
       "    .dataframe tbody tr th {\n",
       "        vertical-align: top;\n",
       "    }\n",
       "\n",
       "    .dataframe thead th {\n",
       "        text-align: right;\n",
       "    }\n",
       "</style>\n",
       "<table border=\"1\" class=\"dataframe\">\n",
       "  <thead>\n",
       "    <tr style=\"text-align: right;\">\n",
       "      <th></th>\n",
       "      <th>Salary</th>\n",
       "      <th>Age</th>\n",
       "      <th>Yrs_at_KWB</th>\n",
       "    </tr>\n",
       "  </thead>\n",
       "  <tbody>\n",
       "    <tr>\n",
       "      <th>count</th>\n",
       "      <td>99.000000</td>\n",
       "      <td>99.000000</td>\n",
       "      <td>99.000000</td>\n",
       "    </tr>\n",
       "    <tr>\n",
       "      <th>mean</th>\n",
       "      <td>38.494949</td>\n",
       "      <td>34.979798</td>\n",
       "      <td>11.272727</td>\n",
       "    </tr>\n",
       "    <tr>\n",
       "      <th>std</th>\n",
       "      <td>10.467027</td>\n",
       "      <td>13.017241</td>\n",
       "      <td>9.609538</td>\n",
       "    </tr>\n",
       "    <tr>\n",
       "      <th>min</th>\n",
       "      <td>19.000000</td>\n",
       "      <td>18.000000</td>\n",
       "      <td>1.000000</td>\n",
       "    </tr>\n",
       "    <tr>\n",
       "      <th>25%</th>\n",
       "      <td>30.500000</td>\n",
       "      <td>25.000000</td>\n",
       "      <td>3.000000</td>\n",
       "    </tr>\n",
       "    <tr>\n",
       "      <th>50%</th>\n",
       "      <td>38.000000</td>\n",
       "      <td>30.000000</td>\n",
       "      <td>9.000000</td>\n",
       "    </tr>\n",
       "    <tr>\n",
       "      <th>75%</th>\n",
       "      <td>46.500000</td>\n",
       "      <td>44.500000</td>\n",
       "      <td>15.000000</td>\n",
       "    </tr>\n",
       "    <tr>\n",
       "      <th>max</th>\n",
       "      <td>61.000000</td>\n",
       "      <td>64.000000</td>\n",
       "      <td>40.000000</td>\n",
       "    </tr>\n",
       "  </tbody>\n",
       "</table>\n",
       "</div>"
      ],
      "text/plain": [
       "          Salary        Age  Yrs_at_KWB\n",
       "count  99.000000  99.000000   99.000000\n",
       "mean   38.494949  34.979798   11.272727\n",
       "std    10.467027  13.017241    9.609538\n",
       "min    19.000000  18.000000    1.000000\n",
       "25%    30.500000  25.000000    3.000000\n",
       "50%    38.000000  30.000000    9.000000\n",
       "75%    46.500000  44.500000   15.000000\n",
       "max    61.000000  64.000000   40.000000"
      ]
     },
     "execution_count": 7,
     "metadata": {},
     "output_type": "execute_result"
    }
   ],
   "source": [
    "# Displaying the stats of non-dichotomous variables, to understand how they are distributed. This may also be used \n",
    "# later when generating a single test case. \n",
    "df[['Salary','Age','Yrs_at_KWB']].describe()"
   ]
  },
  {
   "cell_type": "markdown",
   "metadata": {},
   "source": [
    "The first step is to process the data. This includes assessing variables to ensure they are relevant to use. Outliers and highly correlated variables are assessed and removed. \n",
    "\n",
    "Highly correlated variables can result in multicollinearity, which will undermine the statistical significance of an independent variable."
   ]
  },
  {
   "cell_type": "code",
   "execution_count": 7,
   "metadata": {
    "scrolled": true
   },
   "outputs": [
    {
     "data": {
      "text/html": [
       "<div>\n",
       "<style scoped>\n",
       "    .dataframe tbody tr th:only-of-type {\n",
       "        vertical-align: middle;\n",
       "    }\n",
       "\n",
       "    .dataframe tbody tr th {\n",
       "        vertical-align: top;\n",
       "    }\n",
       "\n",
       "    .dataframe thead th {\n",
       "        text-align: right;\n",
       "    }\n",
       "</style>\n",
       "<table border=\"1\" class=\"dataframe\">\n",
       "  <thead>\n",
       "    <tr style=\"text-align: right;\">\n",
       "      <th></th>\n",
       "      <th>Salary</th>\n",
       "      <th>Late_on_1</th>\n",
       "      <th>Late_on_2</th>\n",
       "      <th>Location</th>\n",
       "      <th>Single</th>\n",
       "      <th>Existing_Loans</th>\n",
       "      <th>Age</th>\n",
       "      <th>Yrs_at_KWB</th>\n",
       "      <th>Outcome</th>\n",
       "    </tr>\n",
       "  </thead>\n",
       "  <tbody>\n",
       "    <tr>\n",
       "      <th>Salary</th>\n",
       "      <td>1.000000</td>\n",
       "      <td>-0.107508</td>\n",
       "      <td>-0.060153</td>\n",
       "      <td>-0.010229</td>\n",
       "      <td>-0.245157</td>\n",
       "      <td>0.086864</td>\n",
       "      <td>-0.117580</td>\n",
       "      <td>-0.227587</td>\n",
       "      <td>-0.289326</td>\n",
       "    </tr>\n",
       "    <tr>\n",
       "      <th>Late_on_1</th>\n",
       "      <td>-0.107508</td>\n",
       "      <td>1.000000</td>\n",
       "      <td>-0.493710</td>\n",
       "      <td>-0.025031</td>\n",
       "      <td>0.012479</td>\n",
       "      <td>0.004126</td>\n",
       "      <td>-0.007801</td>\n",
       "      <td>-0.005607</td>\n",
       "      <td>-0.091287</td>\n",
       "    </tr>\n",
       "    <tr>\n",
       "      <th>Late_on_2</th>\n",
       "      <td>-0.060153</td>\n",
       "      <td>-0.493710</td>\n",
       "      <td>1.000000</td>\n",
       "      <td>0.106471</td>\n",
       "      <td>0.127646</td>\n",
       "      <td>-0.003760</td>\n",
       "      <td>-0.182301</td>\n",
       "      <td>-0.066242</td>\n",
       "      <td>0.429893</td>\n",
       "    </tr>\n",
       "    <tr>\n",
       "      <th>Location</th>\n",
       "      <td>-0.010229</td>\n",
       "      <td>-0.025031</td>\n",
       "      <td>0.106471</td>\n",
       "      <td>1.000000</td>\n",
       "      <td>0.051229</td>\n",
       "      <td>0.026024</td>\n",
       "      <td>-0.100757</td>\n",
       "      <td>-0.026818</td>\n",
       "      <td>0.425017</td>\n",
       "    </tr>\n",
       "    <tr>\n",
       "      <th>Single</th>\n",
       "      <td>-0.245157</td>\n",
       "      <td>0.012479</td>\n",
       "      <td>0.127646</td>\n",
       "      <td>0.051229</td>\n",
       "      <td>1.000000</td>\n",
       "      <td>0.156925</td>\n",
       "      <td>-0.181155</td>\n",
       "      <td>-0.005813</td>\n",
       "      <td>0.332644</td>\n",
       "    </tr>\n",
       "    <tr>\n",
       "      <th>Existing_Loans</th>\n",
       "      <td>0.086864</td>\n",
       "      <td>0.004126</td>\n",
       "      <td>-0.003760</td>\n",
       "      <td>0.026024</td>\n",
       "      <td>0.156925</td>\n",
       "      <td>1.000000</td>\n",
       "      <td>0.123331</td>\n",
       "      <td>0.239069</td>\n",
       "      <td>-0.013558</td>\n",
       "    </tr>\n",
       "    <tr>\n",
       "      <th>Age</th>\n",
       "      <td>-0.117580</td>\n",
       "      <td>-0.007801</td>\n",
       "      <td>-0.182301</td>\n",
       "      <td>-0.100757</td>\n",
       "      <td>-0.181155</td>\n",
       "      <td>0.123331</td>\n",
       "      <td>1.000000</td>\n",
       "      <td>0.557033</td>\n",
       "      <td>-0.360824</td>\n",
       "    </tr>\n",
       "    <tr>\n",
       "      <th>Yrs_at_KWB</th>\n",
       "      <td>-0.227587</td>\n",
       "      <td>-0.005607</td>\n",
       "      <td>-0.066242</td>\n",
       "      <td>-0.026818</td>\n",
       "      <td>-0.005813</td>\n",
       "      <td>0.239069</td>\n",
       "      <td>0.557033</td>\n",
       "      <td>1.000000</td>\n",
       "      <td>-0.172218</td>\n",
       "    </tr>\n",
       "    <tr>\n",
       "      <th>Outcome</th>\n",
       "      <td>-0.289326</td>\n",
       "      <td>-0.091287</td>\n",
       "      <td>0.429893</td>\n",
       "      <td>0.425017</td>\n",
       "      <td>0.332644</td>\n",
       "      <td>-0.013558</td>\n",
       "      <td>-0.360824</td>\n",
       "      <td>-0.172218</td>\n",
       "      <td>1.000000</td>\n",
       "    </tr>\n",
       "  </tbody>\n",
       "</table>\n",
       "</div>"
      ],
      "text/plain": [
       "                  Salary  Late_on_1  Late_on_2  Location    Single  \\\n",
       "Salary          1.000000  -0.107508  -0.060153 -0.010229 -0.245157   \n",
       "Late_on_1      -0.107508   1.000000  -0.493710 -0.025031  0.012479   \n",
       "Late_on_2      -0.060153  -0.493710   1.000000  0.106471  0.127646   \n",
       "Location       -0.010229  -0.025031   0.106471  1.000000  0.051229   \n",
       "Single         -0.245157   0.012479   0.127646  0.051229  1.000000   \n",
       "Existing_Loans  0.086864   0.004126  -0.003760  0.026024  0.156925   \n",
       "Age            -0.117580  -0.007801  -0.182301 -0.100757 -0.181155   \n",
       "Yrs_at_KWB     -0.227587  -0.005607  -0.066242 -0.026818 -0.005813   \n",
       "Outcome        -0.289326  -0.091287   0.429893  0.425017  0.332644   \n",
       "\n",
       "                Existing_Loans       Age  Yrs_at_KWB   Outcome  \n",
       "Salary                0.086864 -0.117580   -0.227587 -0.289326  \n",
       "Late_on_1             0.004126 -0.007801   -0.005607 -0.091287  \n",
       "Late_on_2            -0.003760 -0.182301   -0.066242  0.429893  \n",
       "Location              0.026024 -0.100757   -0.026818  0.425017  \n",
       "Single                0.156925 -0.181155   -0.005813  0.332644  \n",
       "Existing_Loans        1.000000  0.123331    0.239069 -0.013558  \n",
       "Age                   0.123331  1.000000    0.557033 -0.360824  \n",
       "Yrs_at_KWB            0.239069  0.557033    1.000000 -0.172218  \n",
       "Outcome              -0.013558 -0.360824   -0.172218  1.000000  "
      ]
     },
     "execution_count": 7,
     "metadata": {},
     "output_type": "execute_result"
    }
   ],
   "source": [
    "# Correlation matrix\n",
    "df.corr()"
   ]
  },
  {
   "cell_type": "markdown",
   "metadata": {},
   "source": [
    "Variables are not too highly correlated. The Age and Yrs_at_KWB have the highest correlattion of 0.557.\n",
    "These variables will not be discarded at this stage, as the correlation is not significantly high enough to justify removing them. We will proceed to use all variables to generate model and see how they fare. "
   ]
  },
  {
   "cell_type": "markdown",
   "metadata": {},
   "source": [
    "## BUILDING THE MODEL \n",
    "The data set is split into a training set for training the model and a test set to validate the accuracy of the model."
   ]
  },
  {
   "cell_type": "code",
   "execution_count": 8,
   "metadata": {},
   "outputs": [],
   "source": [
    "# Splitting the data into training and testing datasets\n",
    "y=df[['Outcome']]\n",
    "x=df[['Salary','Late_on_1','Late_on_2','Location','Single','Existing_Loans','Age','Yrs_at_KWB']]\n",
    "x_train, x_test, y_train, y_test = train_test_split(x, y, test_size=0.5, random_state=1)"
   ]
  },
  {
   "cell_type": "code",
   "execution_count": 9,
   "metadata": {},
   "outputs": [
    {
     "name": "stdout",
     "output_type": "stream",
     "text": [
      "Optimization terminated successfully.\n",
      "         Current function value: 0.305295\n",
      "         Iterations 8\n",
      "                           Logit Regression Results                           \n",
      "==============================================================================\n",
      "Dep. Variable:                Outcome   No. Observations:                   49\n",
      "Model:                          Logit   Df Residuals:                       41\n",
      "Method:                           MLE   Df Model:                            7\n",
      "Date:                Mon, 01 Jun 2020   Pseudo R-squ.:                  0.5594\n",
      "Time:                        18:17:59   Log-Likelihood:                -14.959\n",
      "converged:                       True   LL-Null:                       -33.954\n",
      "Covariance Type:            nonrobust   LLR p-value:                 3.045e-06\n",
      "==================================================================================\n",
      "                     coef    std err          z      P>|z|      [0.025      0.975]\n",
      "----------------------------------------------------------------------------------\n",
      "Salary            -0.1166      0.045     -2.576      0.010      -0.205      -0.028\n",
      "Late_on_1          1.5114      1.144      1.321      0.186      -0.731       3.754\n",
      "Late_on_2          5.5235      2.046      2.700      0.007       1.514       9.533\n",
      "Location           1.4227      1.108      1.284      0.199      -0.749       3.595\n",
      "Single             3.7660      1.744      2.159      0.031       0.347       7.185\n",
      "Existing_Loans    -0.7845      1.570     -0.500      0.617      -3.862       2.293\n",
      "Age                0.0263      0.039      0.676      0.499      -0.050       0.103\n",
      "Yrs_at_KWB        -0.0898      0.058     -1.540      0.124      -0.204       0.024\n",
      "==================================================================================\n"
     ]
    }
   ],
   "source": [
    "# Creating the logistic model using all variables and printing results\n",
    "logit_model=sm.Logit(y_train,x_train)\n",
    "results=logit_model.fit()\n",
    "print(results.summary())"
   ]
  },
  {
   "cell_type": "markdown",
   "metadata": {},
   "source": [
    "P-value helps determine the significance of regression results. Coefficients with high p-values (p-value > 0.05) will be excluded from the model.\n",
    "\n",
    "In our case, we have a null hypothesis that there is no relationship between the dependent and independent variables, and that results obtained are due to chance, and not significant. A small p-value (p-value <= 0.05) indicates strong evidence against the null hypothesis, and thus the threshold for statistically significant variables. \n",
    "\n",
    "We can elimate variables that fail to reject the null hypothesis (those that are statistically insignificant) starting  with the variable with the highest P-value (Existing_Loans) "
   ]
  },
  {
   "cell_type": "code",
   "execution_count": 10,
   "metadata": {},
   "outputs": [],
   "source": [
    "# Regenerate model without Existing_Loans.\n",
    "y=df[['Outcome']]\n",
    "x=df[['Salary','Late_on_1','Late_on_2','Location','Single','Age','Yrs_at_KWB']]\n",
    "x_train, x_test, y_train, y_test = train_test_split(x, y, test_size=0.5, random_state=1)"
   ]
  },
  {
   "cell_type": "code",
   "execution_count": 11,
   "metadata": {},
   "outputs": [
    {
     "name": "stdout",
     "output_type": "stream",
     "text": [
      "Optimization terminated successfully.\n",
      "         Current function value: 0.307949\n",
      "         Iterations 8\n",
      "                           Logit Regression Results                           \n",
      "==============================================================================\n",
      "Dep. Variable:                Outcome   No. Observations:                   49\n",
      "Model:                          Logit   Df Residuals:                       42\n",
      "Method:                           MLE   Df Model:                            6\n",
      "Date:                Mon, 01 Jun 2020   Pseudo R-squ.:                  0.5556\n",
      "Time:                        18:18:05   Log-Likelihood:                -15.090\n",
      "converged:                       True   LL-Null:                       -33.954\n",
      "Covariance Type:            nonrobust   LLR p-value:                 1.269e-06\n",
      "==============================================================================\n",
      "                 coef    std err          z      P>|z|      [0.025      0.975]\n",
      "------------------------------------------------------------------------------\n",
      "Salary        -0.1174      0.044     -2.664      0.008      -0.204      -0.031\n",
      "Late_on_1      1.4379      1.130      1.272      0.203      -0.777       3.653\n",
      "Late_on_2      5.1224      1.772      2.892      0.004       1.650       8.595\n",
      "Location       1.6918      0.996      1.698      0.090      -0.261       3.645\n",
      "Single         3.1926      1.204      2.652      0.008       0.833       5.552\n",
      "Age            0.0207      0.036      0.571      0.568      -0.050       0.092\n",
      "Yrs_at_KWB    -0.0908      0.058     -1.576      0.115      -0.204       0.022\n",
      "==============================================================================\n"
     ]
    }
   ],
   "source": [
    "# Model 2\n",
    "logit_model_2=sm.Logit(y_train,x_train)\n",
    "results_2=logit_model_2.fit()\n",
    "print(results_2.summary())"
   ]
  },
  {
   "cell_type": "markdown",
   "metadata": {},
   "source": [
    "While existing loans is at times taken into consideration when banks are assessing giving out personal loans, the variable used to generate the model is binary. This means, only a yes or no response to weather a customer has an exisitng loan is recorded. This variable is statisitically insignificant and as a result, is not fitting for this model to help determine probability of default.\n",
    "\n",
    "Perhaps providing a variable with actual values of exisiting loans would be more appropriate. In that case, we can test whether the value of an existing loan can be used to determine probability of default.\n",
    "\n",
    "Next we remove the Age variable, which now has the highest p-value, above 5% (0.05). Continue to remove variables one at a time and regenerate the model"
   ]
  },
  {
   "cell_type": "code",
   "execution_count": 12,
   "metadata": {},
   "outputs": [],
   "source": [
    "# Removing Age variable\n",
    "y=df[['Outcome']]\n",
    "x=df[['Salary','Late_on_1','Late_on_2','Location','Single','Yrs_at_KWB']]\n",
    "x_train, x_test, y_train, y_test = train_test_split(x, y, test_size=0.5, random_state=1)"
   ]
  },
  {
   "cell_type": "code",
   "execution_count": 13,
   "metadata": {},
   "outputs": [
    {
     "name": "stdout",
     "output_type": "stream",
     "text": [
      "Optimization terminated successfully.\n",
      "         Current function value: 0.311473\n",
      "         Iterations 8\n",
      "                           Logit Regression Results                           \n",
      "==============================================================================\n",
      "Dep. Variable:                Outcome   No. Observations:                   49\n",
      "Model:                          Logit   Df Residuals:                       43\n",
      "Method:                           MLE   Df Model:                            5\n",
      "Date:                Mon, 01 Jun 2020   Pseudo R-squ.:                  0.5505\n",
      "Time:                        18:18:12   Log-Likelihood:                -15.262\n",
      "converged:                       True   LL-Null:                       -33.954\n",
      "Covariance Type:            nonrobust   LLR p-value:                 5.017e-07\n",
      "==============================================================================\n",
      "                 coef    std err          z      P>|z|      [0.025      0.975]\n",
      "------------------------------------------------------------------------------\n",
      "Salary        -0.1051      0.037     -2.838      0.005      -0.178      -0.032\n",
      "Late_on_1      1.5097      1.108      1.362      0.173      -0.663       3.682\n",
      "Late_on_2      4.9738      1.692      2.939      0.003       1.657       8.291\n",
      "Location       1.8054      0.988      1.827      0.068      -0.131       3.742\n",
      "Single         3.1162      1.175      2.651      0.008       0.812       5.420\n",
      "Yrs_at_KWB    -0.0690      0.042     -1.648      0.099      -0.151       0.013\n",
      "==============================================================================\n"
     ]
    }
   ],
   "source": [
    "# Model 3\n",
    "logit_model_3=sm.Logit(y_train,x_train)\n",
    "results_3=logit_model_3.fit()\n",
    "print(results_3.summary())"
   ]
  },
  {
   "cell_type": "markdown",
   "metadata": {},
   "source": [
    "Next we remove the Late_on_1 variable"
   ]
  },
  {
   "cell_type": "code",
   "execution_count": 14,
   "metadata": {
    "jupyter": {
     "source_hidden": true
    }
   },
   "outputs": [],
   "source": [
    "# Removing Late_on_1 variable\n",
    "y=df[['Outcome']]\n",
    "x=df[['Salary','Late_on_2','Location','Single','Yrs_at_KWB']]\n",
    "x_train, x_test, y_train, y_test = train_test_split(x, y, test_size=0.5, random_state=1)"
   ]
  },
  {
   "cell_type": "code",
   "execution_count": 15,
   "metadata": {},
   "outputs": [
    {
     "name": "stdout",
     "output_type": "stream",
     "text": [
      "Optimization terminated successfully.\n",
      "         Current function value: 0.332171\n",
      "         Iterations 7\n",
      "                           Logit Regression Results                           \n",
      "==============================================================================\n",
      "Dep. Variable:                Outcome   No. Observations:                   49\n",
      "Model:                          Logit   Df Residuals:                       44\n",
      "Method:                           MLE   Df Model:                            4\n",
      "Date:                Mon, 01 Jun 2020   Pseudo R-squ.:                  0.5206\n",
      "Time:                        18:18:16   Log-Likelihood:                -16.276\n",
      "converged:                       True   LL-Null:                       -33.954\n",
      "Covariance Type:            nonrobust   LLR p-value:                 3.927e-07\n",
      "==============================================================================\n",
      "                 coef    std err          z      P>|z|      [0.025      0.975]\n",
      "------------------------------------------------------------------------------\n",
      "Salary        -0.0809      0.029     -2.798      0.005      -0.138      -0.024\n",
      "Late_on_2      3.7005      1.250      2.960      0.003       1.250       6.151\n",
      "Location       1.9088      0.929      2.054      0.040       0.088       3.730\n",
      "Single         2.8853      1.089      2.648      0.008       0.750       5.021\n",
      "Yrs_at_KWB    -0.0526      0.038     -1.383      0.167      -0.127       0.022\n",
      "==============================================================================\n"
     ]
    }
   ],
   "source": [
    "# Model 4\n",
    "logit_model_4= sm.Logit(y_train,x_train)\n",
    "results_4=logit_model_4.fit()\n",
    "print(results_4.summary())"
   ]
  },
  {
   "cell_type": "markdown",
   "metadata": {},
   "source": [
    "Next, the Yrs_at_KWB is removed"
   ]
  },
  {
   "cell_type": "code",
   "execution_count": 16,
   "metadata": {},
   "outputs": [],
   "source": [
    "# Removing the Yrs_at_KWB variable\n",
    "y=df[['Outcome']]\n",
    "x=df[['Salary','Late_on_2','Location','Single']]\n",
    "x_train, x_test, y_train, y_test = train_test_split(x, y, test_size=0.5, random_state=1)"
   ]
  },
  {
   "cell_type": "code",
   "execution_count": 18,
   "metadata": {},
   "outputs": [
    {
     "name": "stdout",
     "output_type": "stream",
     "text": [
      "Optimization terminated successfully.\n",
      "         Current function value: 0.353501\n",
      "         Iterations 7\n",
      "                           Logit Regression Results                           \n",
      "==============================================================================\n",
      "Dep. Variable:                Outcome   No. Observations:                   49\n",
      "Model:                          Logit   Df Residuals:                       45\n",
      "Method:                           MLE   Df Model:                            3\n",
      "Date:                Mon, 01 Jun 2020   Pseudo R-squ.:                  0.4899\n",
      "Time:                        18:18:43   Log-Likelihood:                -17.322\n",
      "converged:                       True   LL-Null:                       -33.954\n",
      "Covariance Type:            nonrobust   LLR p-value:                 2.832e-07\n",
      "==============================================================================\n",
      "                 coef    std err          z      P>|z|      [0.025      0.975]\n",
      "------------------------------------------------------------------------------\n",
      "Salary        -0.0881      0.028     -3.167      0.002      -0.143      -0.034\n",
      "Late_on_2      3.3965      1.144      2.969      0.003       1.154       5.639\n",
      "Location       1.8674      0.911      2.050      0.040       0.082       3.653\n",
      "Single         2.5052      0.994      2.521      0.012       0.558       4.453\n",
      "==============================================================================\n"
     ]
    }
   ],
   "source": [
    "# Model 5\n",
    "logit_model_5= sm.Logit(y_train,x_train)\n",
    "results_5=logit_model_5.fit()\n",
    "print(results_5.summary())"
   ]
  },
  {
   "cell_type": "markdown",
   "metadata": {},
   "source": [
    "The final model will take Salary, Late_on_2, Location, Single as variables. The model would be able to help a user answer questions such as how the probability of getting a loan (1 vs 0) changes for every additional thousand dollars a person earns, if they are single (or not), if they were late_on_2 (late payment on 2) and location. \n",
    "\n",
    "These varaibles are determined by the bank and so bare some meaning to the bank e.g late_on_2.\n",
    "\n",
    "We can validate this model at this point. "
   ]
  },
  {
   "cell_type": "code",
   "execution_count": 19,
   "metadata": {},
   "outputs": [
    {
     "data": {
      "text/plain": [
       "LogisticRegression(C=1.0, class_weight=None, dual=False, fit_intercept=True,\n",
       "                   intercept_scaling=1, l1_ratio=None, max_iter=100,\n",
       "                   multi_class='auto', n_jobs=None, penalty='l2',\n",
       "                   random_state=None, solver='lbfgs', tol=0.0001, verbose=0,\n",
       "                   warm_start=False)"
      ]
     },
     "execution_count": 19,
     "metadata": {},
     "output_type": "execute_result"
    }
   ],
   "source": [
    "# Regenerating model using the above mentioned variables so we can predict output\n",
    "# Model name is also changed to logreg. The output is exactly the same as above (model 5)\n",
    "\n",
    "logreg = LogisticRegression()\n",
    "logreg.fit(x_train, y_train.values.ravel())"
   ]
  },
  {
   "cell_type": "code",
   "execution_count": 20,
   "metadata": {},
   "outputs": [
    {
     "data": {
      "text/plain": [
       "array([0, 1, 0, 1, 1, 0, 1, 1, 0, 1, 0, 1, 1, 1, 0, 1, 0, 1, 1, 0, 1, 0,\n",
       "       0, 1, 1, 0, 0, 1, 0, 0, 1, 0, 1, 1, 0, 1, 1, 1, 1, 1, 0, 0, 1, 1,\n",
       "       0, 1, 1, 0, 0, 1])"
      ]
     },
     "execution_count": 20,
     "metadata": {},
     "output_type": "execute_result"
    }
   ],
   "source": [
    "# Predicting y (outcome) using the x variables on the test data set. The process uses the final logistic regression \n",
    "# model we generated. This will allow us to assess the performance of model by comparing what the model predicted the\n",
    "# outcome would be vs the actual y values (outcome) on the test data set.\n",
    "# The predicted y values are rounded to either 0, if probability is lower than 50%, and 1 otherwise\n",
    "y_predict = logreg.predict(x_test)\n",
    "y_predict"
   ]
  },
  {
   "cell_type": "code",
   "execution_count": 21,
   "metadata": {},
   "outputs": [
    {
     "name": "stdout",
     "output_type": "stream",
     "text": [
      "[[14  5]\n",
      " [ 7 24]]\n"
     ]
    }
   ],
   "source": [
    "# Generating confusion matrix to get the performance visualization of the model.\n",
    "\n",
    "from sklearn.metrics import confusion_matrix\n",
    "logreg_confusion_matrix = confusion_matrix(y_test,y_predict)\n",
    "print(logreg_confusion_matrix,)"
   ]
  },
  {
   "cell_type": "markdown",
   "metadata": {},
   "source": [
    "The model was able to correctly classify 38 cases (14+24) and misclassified 12 cases (7+5).\n",
    "\n",
    "In the y_test set, 14 cases where the outcome was 0 were predicted correctly by the model and 24 cases where the outcome was 1 were predicted correctly by the model. However in 5 cases, the model predicted the outcome as 1 when in fact, in the y-test set, the outcome was 0. Similarly, in 7 cases the model predicted an outcome of 0 when in fact the outcome was classified as a 1 in the test set."
   ]
  },
  {
   "cell_type": "code",
   "execution_count": 22,
   "metadata": {},
   "outputs": [
    {
     "name": "stdout",
     "output_type": "stream",
     "text": [
      "Model accuracy on test set is:76.0%\n"
     ]
    }
   ],
   "source": [
    "# Generating the accuracy of logistic regression classifier on the test set i.e. accuracy of model when applying it \n",
    "# to test set\n",
    "logreg.score(x_test,y_test)\n",
    "print('Model accuracy on test set is: {}%'.format((logreg.score(x_test,y_test)*100)))"
   ]
  },
  {
   "cell_type": "code",
   "execution_count": 28,
   "metadata": {},
   "outputs": [
    {
     "name": "stdout",
     "output_type": "stream",
     "text": [
      "76.0%\n"
     ]
    }
   ],
   "source": [
    "# Alternatively, the accuracy can be generated using the values in the confusion matrix, by diving outcomes correctly \n",
    "# classified by total size of data set\n",
    "Model_accuracy=(logreg_confusion_matrix[0,0]+logreg_confusion_matrix[1,1])/len(y_test)\n",
    "print (\"{}%\".format(Model_accuracy*100))"
   ]
  },
  {
   "cell_type": "markdown",
   "metadata": {},
   "source": [
    "Currently, a probability of 50% or more is classified as a default. Anything less would be considered unlikely to default. \n",
    "\n",
    "However, in banking, a higher degree of accuracy is important. A customer who defaults can cost the bank a lot of money. The cutoff point can therefore be adjusted. For this model, I choose to decrease the cutoff point by 20%. This means if the probabilty of default is 30% or greater, The customer is classified as likely to default. This could improve the model accuracy."
   ]
  },
  {
   "cell_type": "code",
   "execution_count": 34,
   "metadata": {},
   "outputs": [
    {
     "name": "stdout",
     "output_type": "stream",
     "text": [
      "Model Accuracy with new cut-off point is 84.0%:\n"
     ]
    }
   ],
   "source": [
    "# Creating a predictive model with new cutoff point\n",
    "y_predict2 = logreg.predict(x_test+0.20)\n",
    "logreg_confusion_matrix2 = confusion_matrix(y_test,y_predict2)\n",
    "Model_accuracy2=(logreg_confusion_matrix2[0,0]+logreg_confusion_matrix2[1,1])/len(y_test)\n",
    "print('Model Accuracy with new cut-off point is {}%:'.format(Model_accuracy2*100))"
   ]
  },
  {
   "cell_type": "markdown",
   "metadata": {},
   "source": [
    "### Single case test\n",
    "\n",
    "Assume there is a customer, Client M with the following profile.\n",
    "The model can be used to predict if they are likely to default or not, based on the 30% or more cut off point for a 'likely to default'  status"
   ]
  },
  {
   "cell_type": "code",
   "execution_count": 3,
   "metadata": {},
   "outputs": [
    {
     "data": {
      "text/html": [
       "<div>\n",
       "<style scoped>\n",
       "    .dataframe tbody tr th:only-of-type {\n",
       "        vertical-align: middle;\n",
       "    }\n",
       "\n",
       "    .dataframe tbody tr th {\n",
       "        vertical-align: top;\n",
       "    }\n",
       "\n",
       "    .dataframe thead th {\n",
       "        text-align: right;\n",
       "    }\n",
       "</style>\n",
       "<table border=\"1\" class=\"dataframe\">\n",
       "  <thead>\n",
       "    <tr style=\"text-align: right;\">\n",
       "      <th></th>\n",
       "      <th>Salary</th>\n",
       "      <th>Late_on_2</th>\n",
       "      <th>Location</th>\n",
       "      <th>Single</th>\n",
       "    </tr>\n",
       "  </thead>\n",
       "  <tbody>\n",
       "    <tr>\n",
       "      <th>0</th>\n",
       "      <td>10</td>\n",
       "      <td>0</td>\n",
       "      <td>1</td>\n",
       "      <td>1</td>\n",
       "    </tr>\n",
       "  </tbody>\n",
       "</table>\n",
       "</div>"
      ],
      "text/plain": [
       "   Salary  Late_on_2  Location  Single\n",
       "0      10          0         1       1"
      ]
     },
     "execution_count": 3,
     "metadata": {},
     "output_type": "execute_result"
    }
   ],
   "source": [
    "# Creating a data frame containing client M's information \n",
    "data = {'Salary':  [10],\n",
    "        'Late_on_2': [0],\n",
    "        'Location': [1],\n",
    "        'Single':[1]\n",
    "        }\n",
    "\n",
    "df2 = pd.DataFrame (data, columns = ['Salary','Late_on_2','Location','Single'])\n",
    "df2"
   ]
  },
  {
   "cell_type": "code",
   "execution_count": 46,
   "metadata": {},
   "outputs": [
    {
     "name": "stdout",
     "output_type": "stream",
     "text": [
      "Client M: [1] \n",
      "likely to default\n"
     ]
    }
   ],
   "source": [
    "# Use the predictive model to test what the model would give based on client M's data. we get the output (1 or 0)and a\n",
    "# corresponding statement for this output \n",
    "\n",
    "Test_Case = logreg.predict(df2+0.20)\n",
    "print('Client M: {} '.format(Test_Case))\n",
    "if Test_Case[0]==0:\n",
    "    print('unlikely to default')\n",
    "else:\n",
    "    print('likely to default')"
   ]
  }
 ],
 "metadata": {
  "kernelspec": {
   "display_name": "Python 3",
   "language": "python",
   "name": "python3"
  },
  "language_info": {
   "codemirror_mode": {
    "name": "ipython",
    "version": 3
   },
   "file_extension": ".py",
   "mimetype": "text/x-python",
   "name": "python",
   "nbconvert_exporter": "python",
   "pygments_lexer": "ipython3",
   "version": "3.7.6"
  }
 },
 "nbformat": 4,
 "nbformat_minor": 4
}
